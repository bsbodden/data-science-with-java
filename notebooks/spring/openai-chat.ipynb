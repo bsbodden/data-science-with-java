{
 "cells": [
  {
   "cell_type": "markdown",
   "id": "6498d2b8-d6f9-4bad-9c6f-8c8151675b02",
   "metadata": {},
   "source": [
    "# Spring AI Test"
   ]
  },
  {
   "cell_type": "code",
   "execution_count": 3,
   "id": "f0483426-9a2a-4fc1-a184-9ba3343d2bf9",
   "metadata": {},
   "outputs": [],
   "source": [
    "%mavenRepo spring_milestones https://repo.spring.io/milestone/   \n",
    "%maven \"org.springframework.ai:spring-ai-openai:1.0.0-M6\"\n",
    "%maven \"org.slf4j:slf4j-simple:2.0.17\"    "
   ]
  },
  {
   "cell_type": "markdown",
   "id": "abd7647d-c667-4578-9d4d-13730c758958",
   "metadata": {},
   "source": [
    "To run the code below, you need to have your OpenAI API key available in environment variable `OPENAI_API_KEY`."
   ]
  },
  {
   "cell_type": "code",
   "execution_count": 4,
   "id": "c34b42d5-aa83-48c3-b65b-a858ac60c03d",
   "metadata": {},
   "outputs": [
    {
     "name": "stdout",
     "output_type": "stream",
     "text": [
      "ChatResponse [metadata={ id: chatcmpl-BC69NdpUlEs0XdDgsE6uo05BqOC1p, usage: DefaultUsage{promptTokens=16, completionTokens=28, totalTokens=44}, rateLimit: { @type: org.springframework.ai.openai.metadata.OpenAiRateLimit, requestsLimit: 10000, requestsRemaining: 9999, requestsReset: PT1M4S, tokensLimit: 200000; tokensRemaining: 199788; tokensReset: PT0.063S } }, generations=[Generation[assistantMessage=AssistantMessage [messageType=ASSISTANT, toolCalls=[], textContent=1. Blackbeard\n",
      "2. Anne Bonny\n",
      "3. Calico Jack\n",
      "4. Captain Kidd\n",
      "5. Black Bart, metadata={refusal=, finishReason=STOP, index=0, id=chatcmpl-BC69NdpUlEs0XdDgsE6uo05BqOC1p, role=ASSISTANT, messageType=ASSISTANT}], chatGenerationMetadata=DefaultChatGenerationMetadata[finishReason='STOP', filters=0, metadata=0]]]]\n"
     ]
    }
   ],
   "source": [
    "// Import our core utilities and DFLib glue library\n",
    "import static org.jjavaglue.core.J.*;\n",
    "\n",
    "import org.springframework.ai.chat.client.ChatClient;\n",
    "import org.springframework.ai.chat.model.ChatResponse;\n",
    "import org.springframework.ai.chat.prompt.Prompt;\n",
    "\n",
    "import org.springframework.ai.openai.OpenAiChatModel;\n",
    "import org.springframework.ai.openai.OpenAiChatOptions;\n",
    "import org.springframework.ai.openai.api.OpenAiApi;\n",
    "\n",
    "var openAiApi = new OpenAiApi(System.getenv(\"OPENAI_API_KEY\"));\n",
    "\n",
    "var openAiChatOptions = OpenAiChatOptions.builder()\n",
    "    .model(\"gpt-3.5-turbo\")\n",
    "    .temperature(0.4)\n",
    "    .maxTokens(200)\n",
    "    .build();\n",
    "\n",
    "var chatModel = new OpenAiChatModel(openAiApi, openAiChatOptions);\n",
    "\n",
    "ChatResponse response = chatModel.call(\n",
    "    new Prompt(\"Generate the names of 5 famous pirates.\"));\n",
    "\n",
    "println(response);"
   ]
  },
  {
   "cell_type": "code",
   "execution_count": null,
   "id": "5f00cae3-7051-48e9-b529-b9580da3b095",
   "metadata": {},
   "outputs": [],
   "source": []
  }
 ],
 "metadata": {
  "kernelspec": {
   "display_name": "Java",
   "language": "java",
   "name": "java"
  },
  "language_info": {
   "codemirror_mode": "java",
   "file_extension": ".jshell",
   "mimetype": "text/x-java-source",
   "name": "Java",
   "pygments_lexer": "java",
   "version": "21.0.6+7-Ubuntu-124.04.1"
  }
 },
 "nbformat": 4,
 "nbformat_minor": 5
}
