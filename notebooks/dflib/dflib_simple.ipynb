{
 "cells": [
  {
   "cell_type": "code",
   "execution_count": 1,
   "id": "234f4e53-4387-4ece-ab1d-d50da591dfae",
   "metadata": {},
   "outputs": [],
   "source": [
    "%maven org.dflib:dflib-jupyter:2.0.0-M2\n",
    "%maven org.dflib:dflib-csv:2.0.0-M2"
   ]
  },
  {
   "cell_type": "markdown",
   "id": "43e41672-ae36-4fb2-bd0d-0a14940f7cae",
   "metadata": {},
   "source": [
    "## Import dependencies"
   ]
  },
  {
   "cell_type": "code",
   "execution_count": 2,
   "id": "84d2fc68-a41f-4799-aab5-9be2c943de53",
   "metadata": {},
   "outputs": [],
   "source": [
    "// Import the DFLib libraries\n",
    "import org.dflib.*;\n",
    "import org.dflib.series.*;\n",
    "import org.dflib.print.*;\n",
    "import java.util.*;"
   ]
  },
  {
   "cell_type": "markdown",
   "id": "45906cef-6d66-4e81-93bc-a169c5545746",
   "metadata": {},
   "source": [
    "## Create sample data"
   ]
  },
  {
   "cell_type": "code",
   "execution_count": 3,
   "id": "43f7f7d4-951f-4182-baa3-d9193312ac10",
   "metadata": {},
   "outputs": [
    {
     "name": "stdout",
     "output_type": "stream",
     "text": [
      "Created DataFrame:\n",
      "\n",
      "year                           popularity                  name                          \n",
      "------------------------------ --------------------------- ------------------------------\n",
      "[1995, 1991, 1995, 2000, 2009] [16.8, 36.2, 9.2, 6.3, 4.2] [Java, Python,..cript, C#, Go]\n",
      "1 row x 3 columns\n"
     ]
    }
   ],
   "source": [
    "// Create sample data\n",
    "Map<String, List<?>> programmingLanguages = new HashMap<>();\n",
    "programmingLanguages.put(\"name\", Arrays.asList(\"Java\", \"Python\", \"JavaScript\", \"C#\", \"Go\"));\n",
    "programmingLanguages.put(\"popularity\", Arrays.asList(16.8, 36.2, 9.2, 6.3, 4.2));\n",
    "programmingLanguages.put(\"year\", Arrays.asList(1995, 1991, 1995, 2000, 2009));\n",
    "\n",
    "// Convert map to Series\n",
    "String[] columns = programmingLanguages.keySet().toArray(new String[0]);\n",
    "Series<?>[] seriesArray = new Series[columns.length];\n",
    "\n",
    "for (int i = 0; i < columns.length; i++) {\n",
    "    seriesArray[i] = Series.of(programmingLanguages.get(columns[i]));\n",
    "}\n",
    "\n",
    "// Create DataFrame\n",
    "DataFrame df = DataFrame.byColumn(columns).of(seriesArray);\n",
    "\n",
    "// Show the DataFrame\n",
    "System.out.println(\"Created DataFrame:\");\n",
    "TabularPrinter printer = new TabularPrinter();\n",
    "StringBuilder sb = new StringBuilder();\n",
    "printer.print(sb, df);\n",
    "System.out.println(sb.toString());"
   ]
  },
  {
   "cell_type": "markdown",
   "id": "b97440bc-6ef4-41ef-b2c9-f14ff7115d4e",
   "metadata": {},
   "source": [
    "## Describe the DataFrame"
   ]
  },
  {
   "cell_type": "code",
   "execution_count": 4,
   "id": "e6767c25-b258-4d34-971d-5d2a34bafa08",
   "metadata": {},
   "outputs": [
    {
     "name": "stdout",
     "output_type": "stream",
     "text": [
      "DataFrame: 3 columns × 1 rows\n",
      "\n",
      "Columns:\n",
      "  year                 ArraySeries          Sample: [[1995, 1991, 1995, 2000, 2009]]\n",
      "  popularity           ArraySeries          Sample: [[16.8, 36.2, 9.2, 6.3, 4.2]]\n",
      "  name                 ArraySeries          Sample: [[Java, Python, JavaScript, C#, Go]]\n",
      "\n",
      "First 5 rows:\n",
      "\n",
      "year                           popularity                  name                          \n",
      "------------------------------ --------------------------- ------------------------------\n",
      "[1995, 1991, 1995, 2000, 2009] [16.8, 36.2, 9.2, 6.3, 4.2] [Java, Python,..cript, C#, Go]\n",
      "1 row x 3 columns\n",
      "\n",
      "Numeric Summaries:\n"
     ]
    }
   ],
   "source": [
    "// Describe the DataFrame\n",
    "System.out.println(\"DataFrame: \" + df.width() + \" columns × \" + df.height() + \" rows\");\n",
    "System.out.println(\"\\nColumns:\");\n",
    "\n",
    "for (String col : df.getColumnsIndex()) {\n",
    "    Series<?> series = df.getColumn(col);\n",
    "    String typeInfo = series.getClass().getSimpleName();\n",
    "    \n",
    "    // Get sample values\n",
    "    List<String> samples = new ArrayList<>();\n",
    "    for (int i = 0; i < Math.min(3, series.size()); i++) {\n",
    "        Object value = series.get(i);\n",
    "        samples.add(value == null ? \"null\" : value.toString());\n",
    "    }\n",
    "    \n",
    "    System.out.printf(\"  %-20s %-20s Sample: [%s]\\n\", \n",
    "        col, typeInfo, String.join(\", \", samples));\n",
    "}\n",
    "\n",
    "// Show first 5 rows\n",
    "System.out.println(\"\\nFirst 5 rows:\");\n",
    "TabularPrinter printer = new TabularPrinter();\n",
    "StringBuilder sb = new StringBuilder();\n",
    "printer.print(sb, df.head(5));\n",
    "System.out.println(sb.toString());\n",
    "\n",
    "// Show numeric summaries for numeric columns\n",
    "System.out.println(\"\\nNumeric Summaries:\");\n",
    "for (String col : df.getColumnsIndex()) {\n",
    "    Series<?> series = df.getColumn(col);\n",
    "    \n",
    "    try {\n",
    "        if (series instanceof DoubleSeries) {\n",
    "            DoubleSeries ds = (DoubleSeries) series;\n",
    "            System.out.printf(\"  %-20s min: %10.2f  max: %10.2f  mean: %10.2f  sum: %10.2f\\n\",\n",
    "                col, ds.min(), ds.max(), ds.avg(), ds.sum());\n",
    "        } else if (series instanceof IntSeries) {\n",
    "            IntSeries is = (IntSeries) series;\n",
    "            System.out.printf(\"  %-20s min: %10d  max: %10d  mean: %10.2f  sum: %10d\\n\",\n",
    "                col, is.min(), is.max(), is.avg(), is.sum());\n",
    "        } else if (series instanceof LongSeries) {\n",
    "            LongSeries ls = (LongSeries) series;\n",
    "            System.out.printf(\"  %-20s min: %10d  max: %10d  mean: %10.2f  sum: %10d\\n\",\n",
    "                col, ls.min(), ls.max(), ls.avg(), ls.sum());\n",
    "        }\n",
    "    } catch (Exception e) {\n",
    "        // Skip non-numeric columns or ones that can't be summarized\n",
    "    }\n",
    "}"
   ]
  },
  {
   "cell_type": "markdown",
   "id": "04ffa1f9-7fba-46fb-8757-5af62b4f2565",
   "metadata": {},
   "source": [
    "## Sort by popularity (descending)"
   ]
  },
  {
   "cell_type": "code",
   "execution_count": 5,
   "id": "2066b247-ac36-4413-aec3-fc5eb1c551fe",
   "metadata": {},
   "outputs": [
    {
     "name": "stdout",
     "output_type": "stream",
     "text": [
      "Languages sorted by popularity (descending):\n",
      "\n",
      "year                           popularity                  name                          \n",
      "------------------------------ --------------------------- ------------------------------\n",
      "[1995, 1991, 1995, 2000, 2009] [16.8, 36.2, 9.2, 6.3, 4.2] [Java, Python,..cript, C#, Go]\n",
      "1 row x 3 columns\n"
     ]
    }
   ],
   "source": [
    "// Sort by popularity (descending)\n",
    "DataFrame sortedByPopularity = df.sort(\"popularity\", false);\n",
    "\n",
    "System.out.println(\"Languages sorted by popularity (descending):\");\n",
    "TabularPrinter printer = new TabularPrinter();\n",
    "StringBuilder sb = new StringBuilder();\n",
    "printer.print(sb, sortedByPopularity);\n",
    "System.out.println(sb.toString());"
   ]
  },
  {
   "cell_type": "markdown",
   "id": "bbf28a10-3e89-4848-b36f-8c3372577f94",
   "metadata": {},
   "source": [
    "## Sort by year (ascending)"
   ]
  },
  {
   "cell_type": "code",
   "execution_count": 6,
   "id": "93195def-e05e-46a7-86e9-6c23e85f460c",
   "metadata": {},
   "outputs": [
    {
     "name": "stdout",
     "output_type": "stream",
     "text": [
      "Languages sorted by year (ascending):\n",
      "\n",
      "year                           popularity                  name                          \n",
      "------------------------------ --------------------------- ------------------------------\n",
      "[1995, 1991, 1995, 2000, 2009] [16.8, 36.2, 9.2, 6.3, 4.2] [Java, Python,..cript, C#, Go]\n",
      "1 row x 3 columns\n"
     ]
    }
   ],
   "source": [
    "// Sort by year (ascending)\n",
    "DataFrame sortedByYear = df.sort(\"year\", true);\n",
    "\n",
    "System.out.println(\"Languages sorted by year (ascending):\");\n",
    "TabularPrinter printer = new TabularPrinter();\n",
    "StringBuilder sb = new StringBuilder();\n",
    "printer.print(sb, sortedByYear);\n",
    "System.out.println(sb.toString());"
   ]
  },
  {
   "cell_type": "markdown",
   "id": "740e0fc9-d6c9-4bc3-9a71-b47c0b1df601",
   "metadata": {},
   "source": [
    "## Calculate percentages"
   ]
  },
  {
   "cell_type": "code",
   "execution_count": 8,
   "id": "3ee5c604-302f-445a-99a2-1c4d30fad467",
   "metadata": {},
   "outputs": [
    {
     "name": "stdout",
     "output_type": "stream",
     "text": [
      "Languages with percentage of total popularity:\n",
      "\n",
      "year                           popularity                  name                           percentage\n",
      "------------------------------ --------------------------- ------------------------------ ----------\n",
      "[1995, 1991, 1995, 2000, 2009] [16.8, 36.2, 9.2, 6.3, 4.2] [Java, Python,..cript, C#, Go] [100.0]   \n",
      "1 row x 4 columns\n"
     ]
    }
   ],
   "source": [
    "// Calculate total popularity\n",
    "double totalPopularity = 0;\n",
    "Series<?> popularitySeries = df.getColumn(\"popularity\");\n",
    "for (int i = 0; i < popularitySeries.size(); i++) {\n",
    "    Object value = popularitySeries.get(i);\n",
    "    if (value instanceof Number) {\n",
    "        totalPopularity += ((Number) value).doubleValue();\n",
    "    } else if (value instanceof List) {\n",
    "        // Handle case where the value is a List\n",
    "        List<?> list = (List<?>) value;\n",
    "        for (Object item : list) {\n",
    "            if (item instanceof Number) {\n",
    "                totalPopularity += ((Number) item).doubleValue();\n",
    "            }\n",
    "        }\n",
    "    }\n",
    "}\n",
    "\n",
    "// Create a new DataFrame with all existing columns plus the percentage column\n",
    "String[] columns = new String[df.width() + 1];\n",
    "Series<?>[] series = new Series[df.width() + 1];\n",
    "\n",
    "// Copy existing columns\n",
    "for (int i = 0; i < df.width(); i++) {\n",
    "    String colName = df.getColumnsIndex().get(i);\n",
    "    columns[i] = colName;\n",
    "    series[i] = df.getColumn(colName);\n",
    "}\n",
    "\n",
    "// Create a Series for the percentage column\n",
    "double finalTotal = totalPopularity; // Need final for lambda\n",
    "List<Double> percentages = new ArrayList<>();\n",
    "\n",
    "// Calculate percentages\n",
    "for (int i = 0; i < popularitySeries.size(); i++) {\n",
    "    Object value = popularitySeries.get(i);\n",
    "    double popularity = 0;\n",
    "    \n",
    "    if (value instanceof Number) {\n",
    "        popularity = ((Number) value).doubleValue();\n",
    "    } else if (value instanceof List) {\n",
    "        // Handle case where the value is a List\n",
    "        List<?> list = (List<?>) value;\n",
    "        for (Object item : list) {\n",
    "            if (item instanceof Number) {\n",
    "                popularity += ((Number) item).doubleValue();\n",
    "            }\n",
    "        }\n",
    "    }\n",
    "    \n",
    "    double percentage = (popularity / finalTotal) * 100;\n",
    "    percentages.add(percentage);\n",
    "}\n",
    "\n",
    "// Add the new percentage column\n",
    "columns[df.width()] = \"percentage\";\n",
    "series[df.width()] = Series.of(percentages);\n",
    "\n",
    "// Create the new DataFrame\n",
    "DataFrame withPercentage = DataFrame.byColumn(columns).of(series);\n",
    "\n",
    "System.out.println(\"Languages with percentage of total popularity:\");\n",
    "TabularPrinter printer = new TabularPrinter();\n",
    "StringBuilder sb = new StringBuilder();\n",
    "printer.print(sb, withPercentage);\n",
    "System.out.println(sb.toString());"
   ]
  },
  {
   "cell_type": "code",
   "execution_count": null,
   "id": "3335b5d4-a0d0-492f-bfb9-03361cc3cb00",
   "metadata": {},
   "outputs": [],
   "source": []
  }
 ],
 "metadata": {
  "kernelspec": {
   "display_name": "Java",
   "language": "java",
   "name": "java"
  },
  "language_info": {
   "codemirror_mode": "java",
   "file_extension": ".jshell",
   "mimetype": "text/x-java-source",
   "name": "Java",
   "pygments_lexer": "java",
   "version": "21.0.6+7-Ubuntu-124.04.1"
  }
 },
 "nbformat": 4,
 "nbformat_minor": 5
}
