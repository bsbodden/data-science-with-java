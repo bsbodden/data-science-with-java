{
 "cells": [
  {
   "cell_type": "markdown",
   "id": "d0348020-937c-4bd2-976b-809c5d2f6edd",
   "metadata": {},
   "source": [
    "# DfLib with Glue\n",
    "This notebook demonstrates how our minimal glue library makes common operations easier while still allowing us to use the full DFLib API when needed."
   ]
  },
  {
   "cell_type": "code",
   "execution_count": 1,
   "id": "13a30723-54db-47e7-84d8-9964439bfe7a",
   "metadata": {},
   "outputs": [],
   "source": [
    "// First cell: Import dependencies\n",
    "%maven org.dflib:dflib-jupyter:2.0.0-M2\n",
    "%maven org.dflib:dflib-csv:2.0.0-M2\n",
    "// Our glue library should already be in the classpath from the local Maven install"
   ]
  },
  {
   "cell_type": "code",
   "execution_count": 2,
   "id": "4fc58665-3d35-451b-94b8-9dbf2f5a6570",
   "metadata": {},
   "outputs": [],
   "source": [
    "// Import the libraries\n",
    "import org.jjavaglue.dflib.DS;\n",
    "import org.dflib.*;\n",
    "import java.util.*;"
   ]
  },
  {
   "cell_type": "code",
   "execution_count": 3,
   "id": "efc07f23-4e38-492a-adad-95793d3b01b5",
   "metadata": {},
   "outputs": [],
   "source": [
    "// Create sample data\n",
    "Map<String, List<?>> programmingLanguages = new HashMap<>();\n",
    "programmingLanguages.put(\"name\", Arrays.asList(\"Java\", \"Python\", \"JavaScript\", \"C#\", \"Go\"));\n",
    "programmingLanguages.put(\"popularity\", Arrays.asList(16.8, 36.2, 9.2, 6.3, 4.2));\n",
    "programmingLanguages.put(\"year\", Arrays.asList(1995, 1991, 1995, 2000, 2009));"
   ]
  },
  {
   "cell_type": "code",
   "execution_count": 4,
   "id": "66daa847-678b-4d0c-8d53-be7a2c17ab0d",
   "metadata": {},
   "outputs": [
    {
     "name": "stdout",
     "output_type": "stream",
     "text": [
      "DataFrame: 3 columns × 5 rows\n",
      "\n",
      "Columns:\n",
      "  year                 ArraySeries          Sample: [1995, 1991, 1995]\n",
      "  popularity           ArraySeries          Sample: [16.8, 36.2, 9.2]\n",
      "  name                 ArraySeries          Sample: [Java, Python, JavaScript]\n",
      "\n",
      "First 5 rows:\n",
      "\n",
      "year popularity name      \n",
      "---- ---------- ----------\n",
      "1995       16.8 Java      \n",
      "1991       36.2 Python    \n",
      "1995        9.2 JavaScript\n",
      "2000        6.3 C#        \n",
      "2009        4.2 Go        \n",
      "5 rows x 3 columns\n",
      "\n",
      "Numeric Summaries:\n"
     ]
    }
   ],
   "source": [
    "// Create DataFrame using our glue library\n",
    "DataFrame df = DS.fromMap(programmingLanguages);\n",
    "\n",
    "// Display information about the DataFrame\n",
    "DS.describe(df);"
   ]
  },
  {
   "cell_type": "code",
   "execution_count": 5,
   "id": "e9a04578-185f-43d9-ac49-fd4b6db750ba",
   "metadata": {},
   "outputs": [
    {
     "name": "stdout",
     "output_type": "stream",
     "text": [
      "Languages sorted by popularity (descending):\n",
      "\n",
      "year popularity name      \n",
      "---- ---------- ----------\n",
      "1991       36.2 Python    \n",
      "1995       16.8 Java      \n",
      "1995        9.2 JavaScript\n",
      "2000        6.3 C#        \n",
      "2009        4.2 Go        \n",
      "5 rows x 3 columns\n"
     ]
    }
   ],
   "source": [
    "// Sort by popularity (descending)\n",
    "DataFrame sortedByPopularity = DS.sort(df, \"popularity\", false);\n",
    "System.out.println(\"Languages sorted by popularity (descending):\");\n",
    "DS.show(sortedByPopularity);"
   ]
  },
  {
   "cell_type": "code",
   "execution_count": 6,
   "id": "0c0b6876-dfc7-4555-8592-ff7127e76d4d",
   "metadata": {},
   "outputs": [
    {
     "name": "stdout",
     "output_type": "stream",
     "text": [
      "Languages sorted by year (ascending):\n",
      "\n",
      "year popularity name      \n",
      "---- ---------- ----------\n",
      "1991       36.2 Python    \n",
      "1995       16.8 Java      \n",
      "1995        9.2 JavaScript\n",
      "2000        6.3 C#        \n",
      "2009        4.2 Go        \n",
      "5 rows x 3 columns\n"
     ]
    }
   ],
   "source": [
    "// Sort by year (ascending, which is the default)\n",
    "DataFrame sortedByYear = DS.sort(df, \"year\");\n",
    "System.out.println(\"Languages sorted by year (ascending):\");\n",
    "DS.show(sortedByYear);"
   ]
  },
  {
   "cell_type": "code",
   "execution_count": 10,
   "id": "83fe1346-5ab6-4855-ba53-f1405276ba06",
   "metadata": {},
   "outputs": [
    {
     "name": "stdout",
     "output_type": "stream",
     "text": [
      "Languages with percentage of total popularity:\n",
      "\n",
      "year popularity name               percentage\n",
      "---- ---------- ---------- ------------------\n",
      "1995       16.8 Java       23.108665749656122\n",
      "1991       36.2 Python      49.79367262723521\n",
      "1995        9.2 JavaScript 12.654745529573589\n",
      "2000        6.3 C#          8.665749656121045\n",
      "2009        4.2 Go          5.777166437414031\n",
      "5 rows x 4 columns\n"
     ]
    }
   ],
   "source": [
    "// Let's make some calculations without the glue library\n",
    "// Calculate percentage of total popularity\n",
    "double totalPopularity = 0;\n",
    "Series<?> popularitySeries = df.getColumn(\"popularity\");\n",
    "for (int i = 0; i < popularitySeries.size(); i++) {\n",
    "    Object value = popularitySeries.get(i);\n",
    "    if (value instanceof Number) {\n",
    "        totalPopularity += ((Number) value).doubleValue();\n",
    "    }\n",
    "}\n",
    "\n",
    "// Calculate percentages and create a new DataFrame column by column\n",
    "double finalTotal = totalPopularity; // Need final for lambda\n",
    "\n",
    "// Create a new DataFrame with all existing columns plus the percentage column\n",
    "String[] columns = new String[df.width() + 1];\n",
    "Series<?>[] series = new Series[df.width() + 1];\n",
    "\n",
    "// Copy existing columns\n",
    "for (int i = 0; i < df.width(); i++) {\n",
    "    String colName = df.getColumnsIndex().get(i);\n",
    "    columns[i] = colName;\n",
    "    series[i] = df.getColumn(colName);\n",
    "}\n",
    "\n",
    "// Add the new percentage column\n",
    "columns[df.width()] = \"percentage\";\n",
    "series[df.width()] = df.getColumn(\"popularity\").map(v -> {\n",
    "    double popularity = ((Number) v).doubleValue();\n",
    "    return (popularity / finalTotal) * 100;\n",
    "});\n",
    "\n",
    "// Create the new DataFrame\n",
    "DataFrame withPercentage = DataFrame.byColumn(columns).of(series);\n",
    "\n",
    "System.out.println(\"Languages with percentage of total popularity:\");\n",
    "DS.show(withPercentage);"
   ]
  },
  {
   "cell_type": "code",
   "execution_count": null,
   "id": "cedec565-545b-4e50-b16b-2e51785f6944",
   "metadata": {},
   "outputs": [],
   "source": []
  }
 ],
 "metadata": {
  "kernelspec": {
   "display_name": "Java",
   "language": "java",
   "name": "java"
  },
  "language_info": {
   "codemirror_mode": "java",
   "file_extension": ".jshell",
   "mimetype": "text/x-java-source",
   "name": "Java",
   "pygments_lexer": "java",
   "version": "21.0.6+7-Ubuntu-124.04.1"
  }
 },
 "nbformat": 4,
 "nbformat_minor": 5
}
